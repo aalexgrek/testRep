{
  "nbformat": 4,
  "nbformat_minor": 0,
  "metadata": {
    "colab": {
      "provenance": [],
      "authorship_tag": "ABX9TyMh5ArPzCSCacZ3jeznoGwE"
    },
    "kernelspec": {
      "name": "python3",
      "display_name": "Python 3"
    },
    "language_info": {
      "name": "python"
    }
  },
  "cells": [
    {
      "cell_type": "code",
      "execution_count": null,
      "metadata": {
        "colab": {
          "base_uri": "https://localhost:8080/"
        },
        "id": "rTFnBVq2uhqu",
        "outputId": "ad957bc0-830c-407e-fce3-b47fffbf3657"
      },
      "outputs": [
        {
          "output_type": "stream",
          "name": "stdout",
          "text": [
            "Новый пример: 9 + 58? 65\n",
            "Неверно! Штрафная пауза: 3 секунды\n",
            "Новый пример: 13 + 97? 113\n",
            "Неверно! Штрафная пауза: 4 секунды\n",
            "Новый пример: 95 + 71? 166\n",
            "Поздравляю! Ваш ответ правильный\n"
          ]
        }
      ],
      "source": [
        "import random\n",
        "import time\n",
        "\n",
        "def game():\n",
        "  penalty_time = 3  # Начальная штрафная пауза\n",
        "  while True:\n",
        "    num1 = random.randint(1, 100)\n",
        "    num2 = random.randint(1, 100)\n",
        "    correct_answer = num1 + num2\n",
        "    user_answer = int(input(f\"Новый пример: {num1} + {num2}? \"))\n",
        "    if user_answer == correct_answer:\n",
        "      print(\"Поздравляю! Ваш ответ правильный\")\n",
        "      break\n",
        "    else:\n",
        "      print(f\"Неверно! Штрафная пауза: {penalty_time} секунды\")\n",
        "      time.sleep(penalty_time)\n",
        "      penalty_time += 1\n",
        "# Запуск игры\n",
        "game()\n"
      ]
    }
  ]
}